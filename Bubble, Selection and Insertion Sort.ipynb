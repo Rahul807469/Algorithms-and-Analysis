{
 "cells": [
  {
   "cell_type": "code",
   "execution_count": 1,
   "id": "26eae3c9-dcd3-4706-b73e-58bfaeb273e2",
   "metadata": {},
   "outputs": [
    {
     "name": "stdout",
     "output_type": "stream",
     "text": [
      "Unsorted array: [64, 34, 25, 12, 22, 11, 90]\n",
      "Sorted array: [11, 12, 22, 25, 34, 64, 90]\n"
     ]
    }
   ],
   "source": [
    "def bubble_sort(arr):\n",
    "    n = len(arr)\n",
    "    # Traverse through all array elements\n",
    "    for i in range(n):\n",
    "        # Flag to detect if any swap happens\n",
    "        swapped = False\n",
    "        \n",
    "        # Last i elements are already in place\n",
    "        for j in range(0, n - i - 1):\n",
    "            if arr[j] > arr[j + 1]:\n",
    "                # Swap if element found is greater than next element\n",
    "                arr[j], arr[j + 1] = arr[j + 1], arr[j]\n",
    "                swapped = True\n",
    "        \n",
    "        # If no two elements were swapped, the list is sorted\n",
    "        if not swapped:\n",
    "            break\n",
    "\n",
    "    return arr\n",
    "\n",
    "\n",
    "# Example usage\n",
    "data = [64, 34, 25, 12, 22, 11, 90]\n",
    "print(\"Unsorted array:\", data)\n",
    "sorted_data = bubble_sort(data)\n",
    "print(\"Sorted array:\", sorted_data)\n"
   ]
  },
  {
   "cell_type": "code",
   "execution_count": 2,
   "id": "991767a1-330b-490b-b9f2-3c00fd9e45a9",
   "metadata": {},
   "outputs": [
    {
     "name": "stdout",
     "output_type": "stream",
     "text": [
      "Unsorted array: [64, 25, 12, 22, 11]\n",
      "Sorted array: [11, 12, 22, 25, 64]\n"
     ]
    }
   ],
   "source": [
    "def selection_sort(arr):\n",
    "    n = len(arr)\n",
    "    \n",
    "    for i in range(n):\n",
    "        # Assume the minimum element is at the current position\n",
    "        min_index = i\n",
    "        \n",
    "        # Find the minimum element in the unsorted part\n",
    "        for j in range(i + 1, n):\n",
    "            if arr[j] < arr[min_index]:\n",
    "                min_index = j\n",
    "        \n",
    "        # Swap the found minimum element with the first element\n",
    "        arr[i], arr[min_index] = arr[min_index], arr[i]\n",
    "    \n",
    "    return arr\n",
    "\n",
    "\n",
    "# Example usage\n",
    "data = [64, 25, 12, 22, 11]\n",
    "print(\"Unsorted array:\", data)\n",
    "sorted_data = selection_sort(data)\n",
    "print(\"Sorted array:\", sorted_data)\n"
   ]
  },
  {
   "cell_type": "code",
   "execution_count": 3,
   "id": "3fb06f94-d917-4f30-adf4-7860ff6e7f23",
   "metadata": {},
   "outputs": [
    {
     "name": "stdout",
     "output_type": "stream",
     "text": [
      "Unsorted array: [12, 11, 13, 5, 6]\n",
      "Sorted array: [5, 6, 11, 12, 13]\n"
     ]
    }
   ],
   "source": [
    "def insertion_sort(arr):\n",
    "    # Traverse from the second element to the end\n",
    "    for i in range(1, len(arr)):\n",
    "        key = arr[i]  # Current element to be placed\n",
    "        j = i - 1\n",
    "\n",
    "        # Move elements that are greater than key one position ahead\n",
    "        while j >= 0 and arr[j] > key:\n",
    "            arr[j + 1] = arr[j]\n",
    "            j -= 1\n",
    "\n",
    "        # Place the key in its correct position\n",
    "        arr[j + 1] = key\n",
    "\n",
    "    return arr\n",
    "\n",
    "\n",
    "# Example usage\n",
    "data = [12, 11, 13, 5, 6]\n",
    "print(\"Unsorted array:\", data)\n",
    "sorted_data = insertion_sort(data)\n",
    "print(\"Sorted array:\", sorted_data)\n"
   ]
  }
 ],
 "metadata": {
  "kernelspec": {
   "display_name": "Python 3 (ipykernel)",
   "language": "python",
   "name": "python3"
  },
  "language_info": {
   "codemirror_mode": {
    "name": "ipython",
    "version": 3
   },
   "file_extension": ".py",
   "mimetype": "text/x-python",
   "name": "python",
   "nbconvert_exporter": "python",
   "pygments_lexer": "ipython3",
   "version": "3.11.7"
  }
 },
 "nbformat": 4,
 "nbformat_minor": 5
}
