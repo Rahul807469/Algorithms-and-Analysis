{
 "cells": [
  {
   "cell_type": "code",
   "execution_count": 1,
   "id": "0f85f1ed-8a15-4bb8-b93f-87f18721299d",
   "metadata": {},
   "outputs": [
    {
     "name": "stdout",
     "output_type": "stream",
     "text": [
      "Topological Sort (DFS): [5, 4, 2, 3, 1, 0]\n"
     ]
    }
   ],
   "source": [
    "from collections import defaultdict\n",
    "\n",
    "class Graph:\n",
    "    def __init__(self, vertices):\n",
    "        self.graph = defaultdict(list)\n",
    "        self.V = vertices\n",
    "\n",
    "    def add_edge(self, u, v):\n",
    "        self.graph[u].append(v)\n",
    "\n",
    "    def topo_sort_util(self, v, visited, stack):\n",
    "        visited[v] = True\n",
    "        for neighbor in self.graph[v]:\n",
    "            if not visited[neighbor]:\n",
    "                self.topo_sort_util(neighbor, visited, stack)\n",
    "        stack.append(v)\n",
    "\n",
    "    def topo_sort(self):\n",
    "        visited = [False] * self.V\n",
    "        stack = []\n",
    "        for i in range(self.V):\n",
    "            if not visited[i]:\n",
    "                self.topo_sort_util(i, visited, stack)\n",
    "        return stack[::-1]  # reverse to get correct order\n",
    "\n",
    "\n",
    "# Example usage\n",
    "g = Graph(6)\n",
    "g.add_edge(5, 0)\n",
    "g.add_edge(5, 2)\n",
    "g.add_edge(4, 0)\n",
    "g.add_edge(4, 1)\n",
    "g.add_edge(2, 3)\n",
    "g.add_edge(3, 1)\n",
    "\n",
    "print(\"Topological Sort (DFS):\", g.topo_sort())\n"
   ]
  }
 ],
 "metadata": {
  "kernelspec": {
   "display_name": "Python 3 (ipykernel)",
   "language": "python",
   "name": "python3"
  },
  "language_info": {
   "codemirror_mode": {
    "name": "ipython",
    "version": 3
   },
   "file_extension": ".py",
   "mimetype": "text/x-python",
   "name": "python",
   "nbconvert_exporter": "python",
   "pygments_lexer": "ipython3",
   "version": "3.11.7"
  }
 },
 "nbformat": 4,
 "nbformat_minor": 5
}
