{
 "cells": [
  {
   "cell_type": "code",
   "execution_count": 1,
   "id": "ee45a391-163a-4f4c-95df-e393be5bdb2b",
   "metadata": {},
   "outputs": [
    {
     "name": "stdout",
     "output_type": "stream",
     "text": [
      "Topological Sort (Kahn’s): [4, 5, 0, 2, 3, 1]\n"
     ]
    }
   ],
   "source": [
    "from collections import deque, defaultdict\n",
    "\n",
    "def topo_sort_kahn(V, edges):\n",
    "    graph = defaultdict(list)\n",
    "    indegree = [0] * V\n",
    "\n",
    "    for u, v in edges:\n",
    "        graph[u].append(v)\n",
    "        indegree[v] += 1\n",
    "\n",
    "    queue = deque([i for i in range(V) if indegree[i] == 0])\n",
    "    topo_order = []\n",
    "\n",
    "    while queue:\n",
    "        node = queue.popleft()\n",
    "        topo_order.append(node)\n",
    "\n",
    "        for neighbor in graph[node]:\n",
    "            indegree[neighbor] -= 1\n",
    "            if indegree[neighbor] == 0:\n",
    "                queue.append(neighbor)\n",
    "\n",
    "    if len(topo_order) == V:\n",
    "        return topo_order\n",
    "    else:\n",
    "        return []  # cycle detected\n",
    "\n",
    "\n",
    "# Example usage\n",
    "edges = [(5,0),(5,2),(4,0),(4,1),(2,3),(3,1)]\n",
    "print(\"Topological Sort (Kahn’s):\", topo_sort_kahn(6, edges))\n"
   ]
  }
 ],
 "metadata": {
  "kernelspec": {
   "display_name": "Python 3 (ipykernel)",
   "language": "python",
   "name": "python3"
  },
  "language_info": {
   "codemirror_mode": {
    "name": "ipython",
    "version": 3
   },
   "file_extension": ".py",
   "mimetype": "text/x-python",
   "name": "python",
   "nbconvert_exporter": "python",
   "pygments_lexer": "ipython3",
   "version": "3.11.7"
  }
 },
 "nbformat": 4,
 "nbformat_minor": 5
}
