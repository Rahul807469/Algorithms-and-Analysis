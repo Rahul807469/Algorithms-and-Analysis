{
 "cells": [
  {
   "cell_type": "code",
   "execution_count": 5,
   "id": "a7115c38-0506-41cd-981e-97da3f401852",
   "metadata": {},
   "outputs": [
    {
     "name": "stdout",
     "output_type": "stream",
     "text": [
      "DFS traversal (recursive):\n",
      "A B D E F C \n"
     ]
    }
   ],
   "source": [
    "def dfs_recursive(graph, start, visited=None):\n",
    "\n",
    "    if visited is None:\n",
    "        visited = set()\n",
    "\n",
    "    visited.add(start)\n",
    "    print(start, end=\" \")  # Process the current node (e.g., print it)\n",
    "\n",
    "    for neighbor in graph.get(start, []):\n",
    "        if neighbor not in visited:\n",
    "            dfs_recursive(graph, neighbor, visited)\n",
    "\n",
    "# Example usage:\n",
    "graph = {\n",
    "    'A': ['B', 'C'],\n",
    "    'B': ['A', 'D', 'E'],\n",
    "    'C': ['A', 'F'],\n",
    "    'D': ['B'],\n",
    "    'E': ['B', 'F'],\n",
    "    'F': ['C', 'E']\n",
    "}\n",
    "\n",
    "start_node = 'A'\n",
    "\n",
    "print(\"DFS traversal (recursive):\")\n",
    "dfs_recursive(graph, start_node)\n",
    "print() # Add a newline for better formatting"
   ]
  }
 ],
 "metadata": {
  "kernelspec": {
   "display_name": "Python 3 (ipykernel)",
   "language": "python",
   "name": "python3"
  },
  "language_info": {
   "codemirror_mode": {
    "name": "ipython",
    "version": 3
   },
   "file_extension": ".py",
   "mimetype": "text/x-python",
   "name": "python",
   "nbconvert_exporter": "python",
   "pygments_lexer": "ipython3",
   "version": "3.11.7"
  }
 },
 "nbformat": 4,
 "nbformat_minor": 5
}
