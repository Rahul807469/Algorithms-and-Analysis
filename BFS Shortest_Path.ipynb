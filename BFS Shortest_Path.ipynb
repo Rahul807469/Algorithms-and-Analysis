{
 "cells": [
  {
   "cell_type": "code",
   "execution_count": 4,
   "id": "21da2e3c-c4c8-40fd-a87b-7d25d46d87dc",
   "metadata": {},
   "outputs": [
    {
     "name": "stdout",
     "output_type": "stream",
     "text": [
      "Shortest path from A to F using BFS: ['A', 'C', 'F']\n"
     ]
    }
   ],
   "source": [
    "import collections\n",
    "\n",
    "def bfs_shortest_path(graph, start, end):\n",
    "    queue = collections.deque([(start, [start])])  # Queue for BFS, storing tuples of (current node, path)\n",
    "    visited = set()  # Set to keep track of visited nodes\n",
    "\n",
    "    while queue:\n",
    "        node, path = queue.popleft()  # Get the current node and path from the left of the queue\n",
    "\n",
    "        if node not in visited:\n",
    "            visited.add(node)\n",
    "\n",
    "            if node == end:\n",
    "                return path  # Found the shortest path\n",
    "\n",
    "            for neighbor in graph.get(node, []):\n",
    "                if neighbor not in visited:\n",
    "                    new_path = list(path)  # Create a new path\n",
    "                    new_path.append(neighbor)\n",
    "                    queue.append((neighbor, new_path)) # Add the neighbor and new path to the right of the queue\n",
    "\n",
    "    return None  # No path found\n",
    "\n",
    "# Example usage:\n",
    "graph = {\n",
    "    'A': ['B', 'C'],\n",
    "    'B': ['A', 'D', 'E'],\n",
    "    'C': ['A', 'F'],\n",
    "    'D': ['B'],\n",
    "    'E': ['B', 'F'],\n",
    "    'F': ['C', 'E']\n",
    "}\n",
    "\n",
    "start_node = 'A'\n",
    "end_node = 'F'\n",
    "\n",
    "shortest_path_bfs = bfs_shortest_path(graph, start_node, end_node)\n",
    "\n",
    "if shortest_path_bfs:\n",
    "    print(f\"Shortest path from {start_node} to {end_node} using BFS: {shortest_path_bfs}\")\n",
    "else:\n",
    "    print(f\"No path found from {start_node} to {end_node} using BFS\")"
   ]
  }
 ],
 "metadata": {
  "kernelspec": {
   "display_name": "Python 3 (ipykernel)",
   "language": "python",
   "name": "python3"
  },
  "language_info": {
   "codemirror_mode": {
    "name": "ipython",
    "version": 3
   },
   "file_extension": ".py",
   "mimetype": "text/x-python",
   "name": "python",
   "nbconvert_exporter": "python",
   "pygments_lexer": "ipython3",
   "version": "3.11.7"
  }
 },
 "nbformat": 4,
 "nbformat_minor": 5
}
