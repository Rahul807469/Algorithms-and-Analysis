{
 "cells": [
  {
   "cell_type": "code",
   "execution_count": 1,
   "id": "6dea5684-c40b-4b43-ab4d-1d3756279aa6",
   "metadata": {},
   "outputs": [
    {
     "name": "stdout",
     "output_type": "stream",
     "text": [
      "Pushed 10 onto stack\n",
      "Pushed 20 onto stack\n",
      "Pushed 30 onto stack\n",
      "Top element: 30\n",
      "Popped element: 30\n",
      "Stack size: 2\n",
      "Is stack empty? False\n"
     ]
    }
   ],
   "source": [
    "class Stack:\n",
    "    def __init__(self):\n",
    "        self.stack = []\n",
    "\n",
    "    # Push element onto stack\n",
    "    def push(self, item):\n",
    "        self.stack.append(item)\n",
    "        print(f\"Pushed {item} onto stack\")\n",
    "\n",
    "    # Pop element from stack\n",
    "    def pop(self):\n",
    "        if self.is_empty():\n",
    "            return \"Stack Underflow! Cannot pop.\"\n",
    "        return self.stack.pop()\n",
    "\n",
    "    # Peek at the top element without removing it\n",
    "    def peek(self):\n",
    "        if self.is_empty():\n",
    "            return \"Stack is empty\"\n",
    "        return self.stack[-1]\n",
    "\n",
    "    # Check if stack is empty\n",
    "    def is_empty(self):\n",
    "        return len(self.stack) == 0\n",
    "\n",
    "    # Get size of stack\n",
    "    def size(self):\n",
    "        return len(self.stack)\n",
    "\n",
    "\n",
    "# Example usage\n",
    "s = Stack()\n",
    "s.push(10)\n",
    "s.push(20)\n",
    "s.push(30)\n",
    "\n",
    "print(\"Top element:\", s.peek())\n",
    "print(\"Popped element:\", s.pop())\n",
    "print(\"Stack size:\", s.size())\n",
    "print(\"Is stack empty?\", s.is_empty())\n"
   ]
  }
 ],
 "metadata": {
  "kernelspec": {
   "display_name": "Python 3 (ipykernel)",
   "language": "python",
   "name": "python3"
  },
  "language_info": {
   "codemirror_mode": {
    "name": "ipython",
    "version": 3
   },
   "file_extension": ".py",
   "mimetype": "text/x-python",
   "name": "python",
   "nbconvert_exporter": "python",
   "pygments_lexer": "ipython3",
   "version": "3.11.7"
  }
 },
 "nbformat": 4,
 "nbformat_minor": 5
}
